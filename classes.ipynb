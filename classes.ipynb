{
 "cells": [
  {
   "cell_type": "markdown",
   "metadata": {},
   "source": [
    "# Classe"
   ]
  },
  {
   "cell_type": "code",
   "execution_count": 2,
   "metadata": {},
   "outputs": [
    {
     "name": "stdout",
     "output_type": "stream",
     "text": [
      "Informations :\n",
      "Last name : KERDONCUFF\n",
      "First name : Yann\n",
      "Date of birth : 14/04/2000\n",
      "Gender : Male\n",
      "Phone : 0000\n",
      "Email : yann@*********\n",
      "\n",
      "Yann KERDONCUFF dress :\n",
      "- Jacket\n",
      "\n",
      "Informations :\n",
      "Last name : GAUTREAU\n",
      "First name : Valentin\n",
      "Date of birth : 20/02/2001\n",
      "Gender : Male\n",
      "Phone : 0000\n",
      "Email : valentin.gautreau@*********\n",
      "\n",
      "Valentin GAUTREAU dress :\n",
      "- T-shirt\n",
      "\n",
      "Informations :\n",
      "Last name : RAFFRAY\n",
      "First name : Antoine\n",
      "Date of birth : 17/06/2001\n",
      "Gender : Male\n",
      "Phone : 0000\n",
      "Email : antoine.raffray@*********\n",
      "\n",
      "Antoine RAFFRAY dress :\n",
      "- Jean\n",
      "\n"
     ]
    }
   ],
   "source": [
    "class Human:\n",
    "\n",
    "    def __init__(self, firstname, lastname, dateofbirth, gender, phone, email):\n",
    "        self.firstname = firstname\n",
    "        self.lastname = lastname\n",
    "        self.dateofbirth = dateofbirth\n",
    "        self.gender = gender\n",
    "        self.phone = phone\n",
    "        self.email = email\n",
    "        self.clothes = []\n",
    "\n",
    "    def get_infos(self):\n",
    "        print(\"Informations :\")\n",
    "        print(\"Last name : \" + self.lastname + \"\\nFirst name : \" + self.firstname + \"\\nDate of birth : \" + self.dateofbirth + \"\\nGender : \" + self.gender + \"\\nPhone : \" + self.phone + \"\\nEmail : \" + self.email)\n",
    "\n",
    "    def trace(func):\n",
    "        def decorateur():\n",
    "            print(\"Début d'appel à\", func)\n",
    "            func()\n",
    "            print(\"Fin d'appel à\", func)\n",
    "        return decorateur\n",
    "\n",
    "    def add_clothes(self, item):\n",
    "        self.clothes.append(item)\n",
    "\n",
    "    def get_clothes(self):\n",
    "        print(\"\\n\" + self.firstname + \" \" + self.lastname + \" dress :\")\n",
    "        for item in self.clothes:\n",
    "            print(\"- \" + item + \"\\n\")\n",
    "\n",
    "if __name__ == \"__main__\":\n",
    "    h1 = Human(\"Yann\",\"KERDONCUFF\",\"14/04/2000\",\"Male\",\"0000\",\"yann@*********\")\n",
    "    h1.add_clothes(\"Jacket\")\n",
    "    h1.get_infos()\n",
    "    h1.get_clothes()\n",
    "\n",
    "    h2 = Human(\"Valentin\",\"GAUTREAU\",\"20/02/2001\",\"Male\",\"0000\",\"valentin.gautreau@*********\")\n",
    "    h2.add_clothes(\"T-shirt\")\n",
    "    h2.get_infos()\n",
    "    h2.get_clothes()\n",
    "    \n",
    "    h3= Human(\"Antoine\",\"RAFFRAY\",\"17/06/2001\",\"Male\",\"0000\",\"antoine.raffray@*********\")\n",
    "    h3.add_clothes(\"Jean\")\n",
    "    h3.get_infos()\n",
    "    h3.get_clothes()"
   ]
  },
  {
   "cell_type": "code",
   "execution_count": 2,
   "metadata": {},
   "outputs": [
    {
     "name": "stdout",
     "output_type": "stream",
     "text": [
      "\n",
      "Informations animal :\n",
      "Couleur : noir\n",
      "Poids : 20\n",
      "\n",
      "Durée de vie de l'animal : 15\n"
     ]
    }
   ],
   "source": [
    "class Animal:\n",
    "    \n",
    "    def __init__(self, couleur, poids):\n",
    "        self.couleur = couleur\n",
    "        self.poids = poids\n",
    "\n",
    "    def __str__(self):\n",
    "        return(\"\\nInformations animal :\\nCouleur : \" + self.couleur + \"\\nPoids : \" + str(self.poids))\n",
    "        \n",
    "    def crier(self):\n",
    "        return(\"SUUUUUUUUUUU\")\n",
    "        \n",
    "class Chien(Animal):\n",
    "    \n",
    "    def __init__(self, couleur, poids=30, duree=15):\n",
    "        super().__init__(couleur, poids)\n",
    "        self.duree = duree\n",
    "    \n",
    "    def afficheDureeVie(self):\n",
    "        return(\"\\nDurée de vie de l'animal : \" + str(self.duree))\n",
    "    \n",
    "    def crier(self):\n",
    "        return(\"Waf waf waf\")\n",
    "        \n",
    "if __name__ == \"__main__\":\n",
    "    medor = Chien(\"noir\",20,15)\n",
    "    print(str(medor))\n",
    "    print(medor.afficheDureeVie())"
   ]
  },
  {
   "cell_type": "code",
   "execution_count": 3,
   "metadata": {},
   "outputs": [],
   "source": [
    "class Article:\n",
    "    \n",
    "    def __init__(self, prixHT):\n",
    "        self.prixHT = prixHT"
   ]
  },
  {
   "cell_type": "code",
   "execution_count": null,
   "metadata": {},
   "outputs": [],
   "source": []
  }
 ],
 "metadata": {
  "kernelspec": {
   "display_name": "Python 3",
   "language": "python",
   "name": "python3"
  },
  "language_info": {
   "codemirror_mode": {
    "name": "ipython",
    "version": 3
   },
   "file_extension": ".py",
   "mimetype": "text/x-python",
   "name": "python",
   "nbconvert_exporter": "python",
   "pygments_lexer": "ipython3",
   "version": "3.9.0"
  }
 },
 "nbformat": 4,
 "nbformat_minor": 4
}
