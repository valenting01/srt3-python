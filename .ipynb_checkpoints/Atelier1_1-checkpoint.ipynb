{
  "cells": [
    {
      "cell_type": "markdown",
      "metadata": {
        "id": "view-in-github",
        "colab_type": "text"
      },
      "source": [
        "<a href=\"https://colab.research.google.com/github/valenting01/srt3-python/blob/main/Atelier1_1.ipynb\" target=\"_parent\"><img src=\"https://colab.research.google.com/assets/colab-badge.svg\" alt=\"Open In Colab\"/></a>"
      ]
    },
    {
      "cell_type": "markdown",
      "metadata": {
        "id": "tGkMAs_YNQfV"
      },
      "source": [
        "# Atelier 1-1"
      ]
    },
    {
      "cell_type": "markdown",
      "metadata": {
        "id": "nJ7Kr8b2NQfb"
      },
      "source": [
        "## Exo 1"
      ]
    },
    {
      "cell_type": "code",
      "execution_count": null,
      "metadata": {
        "id": "0IRFSVs8NQfe",
        "outputId": "7543ce80-57fc-4e50-87ce-96e18733fb58"
      },
      "outputs": [
        {
          "name": "stdout",
          "output_type": "stream",
          "text": [
            "Admis\n"
          ]
        }
      ],
      "source": [
        "def moyenne(a,b,c):\n",
        "    moy=(a+b+c)/3\n",
        "    if moy>10:\n",
        "        print(\"Admis\")\n",
        "    else:\n",
        "        print(\"Non admis\")\n",
        "        \n",
        "moyenne(18,16,14)"
      ]
    },
    {
      "cell_type": "markdown",
      "metadata": {
        "id": "ZEHnmgzUNQfh"
      },
      "source": [
        "## Exo 2"
      ]
    },
    {
      "cell_type": "code",
      "execution_count": null,
      "metadata": {
        "id": "DKCT3GHBNQfi",
        "outputId": "180e299a-849b-441d-8ec5-64d3f3a68dec"
      },
      "outputs": [
        {
          "data": {
            "text/plain": [
              "0"
            ]
          },
          "execution_count": 6,
          "metadata": {},
          "output_type": "execute_result"
        }
      ],
      "source": [
        "def test(n):\n",
        "    if (n>=0 and n<=99):\n",
        "        return 1\n",
        "    else:\n",
        "        return 0\n",
        "test(120)"
      ]
    },
    {
      "cell_type": "markdown",
      "metadata": {
        "id": "Jjqz3N8UNQfj"
      },
      "source": [
        "## Exo 3"
      ]
    },
    {
      "cell_type": "code",
      "execution_count": null,
      "metadata": {
        "id": "jJdrhqVbNQfk",
        "outputId": "66d8e516-ff16-4f35-8b77-775a8d9ceba7"
      },
      "outputs": [
        {
          "data": {
            "text/plain": [
              "'Erreur : Vous devez saisir un nombre à deux chiffres'"
            ]
          },
          "execution_count": 24,
          "metadata": {},
          "output_type": "execute_result"
        }
      ],
      "source": [
        "def miroir(a):\n",
        "    if (a>=10 and a<=99):\n",
        "        z=inp\n",
        "        return int(z[1]+z[0])\n",
        "    else:\n",
        "        return \"Erreur : Vous devez saisir un nombre à deux chiffres\"\n",
        "miroir(7)"
      ]
    },
    {
      "cell_type": "markdown",
      "metadata": {
        "id": "H7DKZb1ENQfk"
      },
      "source": [
        "## Exo 4"
      ]
    },
    {
      "cell_type": "code",
      "execution_count": null,
      "metadata": {
        "id": "sgBxpELpNQfl",
        "outputId": "34b38384-6bec-45fa-cb1b-24b75cb1b733"
      },
      "outputs": [
        {
          "name": "stdin",
          "output_type": "stream",
          "text": [
            "Saisissez un nombre à deux chiffres pour obtenir le miroir :  58\n"
          ]
        },
        {
          "data": {
            "text/plain": [
              "85"
            ]
          },
          "execution_count": 27,
          "metadata": {},
          "output_type": "execute_result"
        }
      ],
      "source": [
        "def miroir2():\n",
        "    a=1\n",
        "    while(a<=5):\n",
        "        z=int(input(\"Saisissez un nombre à deux chiffres pour obtenir le miroir : \"))\n",
        "        if (z>=10 and z<=99):\n",
        "            z=str(z)\n",
        "            return int(z[1]+z[0])\n",
        "        else:\n",
        "            a=a+1\n",
        "            print(\"Erreur : Vous devez saisir un nombre à deux chiffres (tentatives restantes : \"+ str(6-a) + \")\")\n",
        "miroir2()"
      ]
    },
    {
      "cell_type": "markdown",
      "metadata": {
        "id": "licKyz6DNQfo"
      },
      "source": [
        "## Exo 5"
      ]
    },
    {
      "cell_type": "code",
      "execution_count": null,
      "metadata": {
        "id": "fIloFEiaNQfq",
        "outputId": "e39df273-ca78-4810-c1d7-f70a8e666cc9"
      },
      "outputs": [
        {
          "name": "stdin",
          "output_type": "stream",
          "text": [
            "Saisissez un nom de matière :  Informatique\n"
          ]
        },
        {
          "name": "stdout",
          "output_type": "stream",
          "text": [
            "Informatique : 17\n"
          ]
        }
      ],
      "source": [
        "def notes(dict):\n",
        "    entree=input(\"Saisissez un nom de matière : \")\n",
        "    if len(entree) == 0:\n",
        "        for current in dict:\n",
        "            print(current+ \" : \" + str(dict[current]))\n",
        "    else:\n",
        "        if entree in dict:\n",
        "            print(entree+ \" : \" + str(dict[entree]))\n",
        "        else:\n",
        "            print(\"Inexistant !\")\n",
        "        \n",
        "dict = {\"Mathématiques\": 8, \"Informatique\": 17, \"Electronique\":14}\n",
        "notes(dict)"
      ]
    },
    {
      "cell_type": "code",
      "execution_count": null,
      "metadata": {
        "id": "2wyqJAqYNQft"
      },
      "outputs": [],
      "source": [
        ""
      ]
    },
    {
      "cell_type": "code",
      "execution_count": null,
      "metadata": {
        "id": "l7nUmN0CNQfu"
      },
      "outputs": [],
      "source": [
        ""
      ]
    }
  ],
  "metadata": {
    "kernelspec": {
      "display_name": "Python 3",
      "language": "python",
      "name": "python3"
    },
    "language_info": {
      "codemirror_mode": {
        "name": "ipython",
        "version": 3
      },
      "file_extension": ".py",
      "mimetype": "text/x-python",
      "name": "python",
      "nbconvert_exporter": "python",
      "pygments_lexer": "ipython3",
      "version": "3.9.0"
    },
    "colab": {
      "name": "Atelier1-1.ipynb",
      "provenance": [],
      "include_colab_link": true
    }
  },
  "nbformat": 4,
  "nbformat_minor": 0
}