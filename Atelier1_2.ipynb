{
 "cells": [
  {
   "cell_type": "markdown",
   "metadata": {},
   "source": [
    "# Atelier 1-2"
   ]
  },
  {
   "cell_type": "markdown",
   "metadata": {},
   "source": [
    "## Exo 1"
   ]
  },
  {
   "cell_type": "code",
   "execution_count": 4,
   "metadata": {},
   "outputs": [
    {
     "name": "stdin",
     "output_type": "stream",
     "text": [
      "Saisissez le nombre d'entier à ajouter dans L :  8\n",
      "Saisissez l'entier 1 :  5\n",
      "Saisissez l'entier 2 :  5\n",
      "Saisissez l'entier 3 :  538\n",
      "Saisissez l'entier 4 :  5\n",
      "Saisissez l'entier 5 :  4\n",
      "Saisissez l'entier 6 :  5\n",
      "Saisissez l'entier 7 :  5\n",
      "Saisissez l'entier 8 :  8\n"
     ]
    }
   ],
   "source": [
    "def create():\n",
    "    L=list()\n",
    "    n=int(input(\"Saisissez le nombre d'entier à ajouter dans L : \"))\n",
    "    for i in range(n):\n",
    "        element=int(input(\"Saisissez l'entier \" + str(i+1) + \" : \"))\n",
    "        L.append(element)\n",
    "    return L\n",
    "liste=create()"
   ]
  },
  {
   "cell_type": "markdown",
   "metadata": {},
   "source": [
    "## Exo 2"
   ]
  },
  {
   "cell_type": "code",
   "execution_count": 7,
   "metadata": {},
   "outputs": [
    {
     "name": "stdout",
     "output_type": "stream",
     "text": [
      "Existant\n"
     ]
    }
   ],
   "source": [
    "def isPresent(x,L):\n",
    "    if (x in L):\n",
    "        print (\"Existant\")\n",
    "    else:\n",
    "        print(\"Inexistant\")\n",
    "isPresent(538,liste)"
   ]
  },
  {
   "cell_type": "markdown",
   "metadata": {},
   "source": [
    "## Exo 3"
   ]
  },
  {
   "cell_type": "code",
   "execution_count": 11,
   "metadata": {},
   "outputs": [
    {
     "name": "stdout",
     "output_type": "stream",
     "text": [
      "Occurence(s) trouvé(s) pour 5 : 5\n"
     ]
    }
   ],
   "source": [
    "def count(x,L):\n",
    "    somme=0\n",
    "    for i in L:\n",
    "        if (i==x):\n",
    "            somme=somme+1\n",
    "    print(\"Occurence(s) trouvé(s) pour \"+ str(x) + \" : \" + str(somme))\n",
    "count(5,liste)"
   ]
  },
  {
   "cell_type": "markdown",
   "metadata": {},
   "source": [
    "## Exo 4"
   ]
  },
  {
   "cell_type": "code",
   "execution_count": null,
   "metadata": {},
   "outputs": [],
   "source": []
  }
 ],
 "metadata": {
  "kernelspec": {
   "display_name": "Python 3",
   "language": "python",
   "name": "python3"
  },
  "language_info": {
   "codemirror_mode": {
    "name": "ipython",
    "version": 3
   },
   "file_extension": ".py",
   "mimetype": "text/x-python",
   "name": "python",
   "nbconvert_exporter": "python",
   "pygments_lexer": "ipython3",
   "version": "3.9.0"
  }
 },
 "nbformat": 4,
 "nbformat_minor": 4
}
